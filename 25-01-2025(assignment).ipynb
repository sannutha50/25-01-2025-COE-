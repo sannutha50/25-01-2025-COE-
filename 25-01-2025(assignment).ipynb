{
 "cells": [
  {
   "cell_type": "code",
   "execution_count": 1,
   "id": "f4aa8904",
   "metadata": {},
   "outputs": [
    {
     "name": "stdout",
     "output_type": "stream",
     "text": [
      "[10 11 12 13 14 15 16 17 18 19 20 21 22 23 24 25 26 27 28 29 30 31 32 33\n",
      " 34 35 36 37 38 39 40 41 42 43 44 45 46 47 48 49 50]\n"
     ]
    }
   ],
   "source": [
    "#Create a 1D array of numbers from 10 to 50.\n",
    "import numpy as np\n",
    "array = np.arange(10, 51)\n",
    "print(array)\n"
   ]
  },
  {
   "cell_type": "code",
   "execution_count": 4,
   "id": "f67e2ff6",
   "metadata": {},
   "outputs": [
    {
     "name": "stdout",
     "output_type": "stream",
     "text": [
      "[[2.64098613e-01 6.86069543e-01 8.06975182e-01]\n",
      " [8.09989365e-01 1.41663249e-01 6.26911490e-01]\n",
      " [4.36959593e-04 2.29148770e-01 6.73010054e-01]]\n"
     ]
    }
   ],
   "source": [
    "#Create a 3x3 array of random numbers between 0 and 1.\n",
    "\n",
    "array = np.random.rand(3, 3)\n",
    "print(array)\n"
   ]
  },
  {
   "cell_type": "code",
   "execution_count": 5,
   "id": "33cd17cd",
   "metadata": {},
   "outputs": [
    {
     "name": "stdout",
     "output_type": "stream",
     "text": [
      "Shape: (3, 3)\n",
      "Size: 9\n",
      "Data type: float64\n"
     ]
    }
   ],
   "source": [
    "#Find the shape, size, and data type of the array you created in the previous task.\n",
    "\n",
    "array = np.random.rand(3, 3)\n",
    "shape = array.shape\n",
    "size = array.size\n",
    "dtype = array.dtype\n",
    "print(\"Shape:\", shape)\n",
    "print(\"Size:\", size)\n",
    "print(\"Data type:\", dtype)\n"
   ]
  },
  {
   "cell_type": "code",
   "execution_count": 6,
   "id": "41c1fa53",
   "metadata": {},
   "outputs": [
    {
     "name": "stdout",
     "output_type": "stream",
     "text": [
      "[ 6  7  8  9 10]\n"
     ]
    }
   ],
   "source": [
    "#Add 5 to every element of a 1D array.\n",
    "array = np.array([1, 2, 3, 4, 5])\n",
    "add_5 = array + 5\n",
    "print(add_5)\n"
   ]
  },
  {
   "cell_type": "code",
   "execution_count": 7,
   "id": "bcafd2ac",
   "metadata": {},
   "outputs": [
    {
     "name": "stdout",
     "output_type": "stream",
     "text": [
      "[[ 7 16 27]\n",
      " [40 55 72]]\n"
     ]
    }
   ],
   "source": [
    "#Multiply two 2D arrays element-wise\n",
    "array1 = np.array([[1, 2, 3], [4, 5, 6]])\n",
    "array2 = np.array([[7, 8, 9], [10, 11, 12]])\n",
    "result = array1 * array2\n",
    "print(result)\n"
   ]
  },
  {
   "cell_type": "code",
   "execution_count": 8,
   "id": "4f6996e3",
   "metadata": {},
   "outputs": [
    {
     "name": "stdout",
     "output_type": "stream",
     "text": [
      "Original Array: [[ 1  2  3  4  5]\n",
      " [ 6  7  8  9 10]\n",
      " [11 12 13 14 15]\n",
      " [16 17 18 19 20]\n",
      " [21 22 23 24 25]]\n",
      "First Row: [1 2 3 4 5]\n",
      "Last Column: [ 5 10 15 20 25]\n",
      "Subarray of first 3 rows and first 2 columns: [[ 1  2]\n",
      " [ 6  7]\n",
      " [11 12]]\n"
     ]
    }
   ],
   "source": [
    "#Create a 5x5 array of integers from 1 to 25. Extract:\n",
    "#The first row.\n",
    "#The last column.\n",
    "#A subarray of the first three rows and first two columns.\n",
    "array = np.arange(1, 26).reshape(5, 5)\n",
    "first_row = array[0, :]\n",
    "last_column = array[:, -1]\n",
    "subarray = array[:3, :2]\n",
    "print(\"Original Array:\", array)\n",
    "print(\"First Row:\", first_row)\n",
    "print(\"Last Column:\", last_column)\n",
    "print(\"Subarray of first 3 rows and first 2 columns:\", subarray)\n"
   ]
  },
  {
   "cell_type": "code",
   "execution_count": 9,
   "id": "8720abdb",
   "metadata": {},
   "outputs": [
    {
     "name": "stdout",
     "output_type": "stream",
     "text": [
      "Array: [24 93  9 49 25 48 50 97 25 87]\n",
      "Maximum Value: 97\n",
      "Minimum Value: 9\n",
      "Mean Value: 50.7\n",
      "Standard Deviation: 30.056779601281306\n"
     ]
    }
   ],
   "source": [
    "#Create a 10-element array of random integers between 1 and 100. Find:\n",
    "#The maximum value.\n",
    "#The minimum value.\n",
    "#The mean and standard deviation.\n",
    "array = np.random.randint(1, 101, 10)\n",
    "max_value = np.max(array)\n",
    "min_value = np.min(array)\n",
    "mean_value = np.mean(array)\n",
    "std_dev = np.std(array)\n",
    "print(\"Array:\", array)\n",
    "print(\"Maximum Value:\", max_value)\n",
    "print(\"Minimum Value:\", min_value)\n",
    "print(\"Mean Value:\", mean_value)\n",
    "print(\"Standard Deviation:\", std_dev)\n"
   ]
  },
  {
   "cell_type": "code",
   "execution_count": 10,
   "id": "25f5f4b7",
   "metadata": {},
   "outputs": [
    {
     "name": "stdout",
     "output_type": "stream",
     "text": [
      "[[ 1  2  3  4]\n",
      " [ 5  6  7  8]\n",
      " [ 9 10 11 12]]\n"
     ]
    }
   ],
   "source": [
    "#Convert a 1D array of numbers from 1 to 12 into a 3x4 matrix.\n",
    "array = np.arange(1, 13)\n",
    "matrix = array.reshape(3, 4)\n",
    "print(matrix)\n"
   ]
  },
  {
   "cell_type": "code",
   "execution_count": 11,
   "id": "5e234739",
   "metadata": {},
   "outputs": [
    {
     "name": "stdout",
     "output_type": "stream",
     "text": [
      "[[2. 3. 4.]\n",
      " [2. 3. 4.]\n",
      " [2. 3. 4.]]\n"
     ]
    }
   ],
   "source": [
    "#Create a 3x3 matrix of ones. Add a 1D array [1, 2, 3] to each row.\n",
    "matrix_ones = np.ones((3, 3))\n",
    "array = np.array([1, 2, 3])\n",
    "result = matrix_ones + array\n",
    "print(result)\n"
   ]
  },
  {
   "cell_type": "code",
   "execution_count": 12,
   "id": "3ab16090",
   "metadata": {},
   "outputs": [
    {
     "name": "stdout",
     "output_type": "stream",
     "text": [
      "Original Array: [17 27 45 31 23  6 45 19 35 25]\n",
      "Elements divisible by 5: [45 45 35 25]\n"
     ]
    }
   ],
   "source": [
    "#Create a 1D array of random integers between 1 and 50. Extract all elements that are divisible by 5.\n",
    "array = np.random.randint(1, 51, 10)\n",
    "divisible_by_5 = array[array % 5 == 0]\n",
    "print(\"Original Array:\", array)\n",
    "print(\"Elements divisible by 5:\", divisible_by_5)\n"
   ]
  },
  {
   "cell_type": "code",
   "execution_count": 13,
   "id": "969ddd3a",
   "metadata": {},
   "outputs": [
    {
     "name": "stdout",
     "output_type": "stream",
     "text": [
      "Matrix 1:\n",
      " [[1 2]\n",
      " [3 4]]\n",
      "Matrix 2:\n",
      " [[5 6]\n",
      " [7 8]]\n",
      "Result of Matrix Multiplication:\n",
      " [[19 22]\n",
      " [43 50]]\n"
     ]
    }
   ],
   "source": [
    "#Create two 2x2 matrices and perform matrix multiplication.\n",
    "import numpy as np\n",
    "matrix1 = np.array([[1, 2], [3, 4]])\n",
    "matrix2 = np.array([[5, 6], [7, 8]])\n",
    "result = np.dot(matrix1, matrix2)\n",
    "print(\"Matrix 1:\\n\", matrix1)\n",
    "print(\"Matrix 2:\\n\", matrix2)\n",
    "print(\"Result of Matrix Multiplication:\\n\", result)\n"
   ]
  },
  {
   "cell_type": "code",
   "execution_count": 14,
   "id": "b1be1027",
   "metadata": {},
   "outputs": [
    {
     "name": "stdout",
     "output_type": "stream",
     "text": [
      "Original 4x4 Array:\n",
      " [[ 1  2  3  4]\n",
      " [ 5  6  7  8]\n",
      " [ 9 10 11 12]\n",
      " [13 14 15 16]]\n",
      "Diagonal Elements: [ 1  6 11 16]\n"
     ]
    }
   ],
   "source": [
    "#Given a 4x4 array, use fancy indexing to extract the diagonal elements.\n",
    "array = np.array([[1, 2, 3, 4],\n",
    "                  [5, 6, 7, 8],\n",
    "                  [9, 10, 11, 12],\n",
    "                  [13, 14, 15, 16]])\n",
    "diagonal_elements = array[np.arange(4), np.arange(4)]\n",
    "print(\"Original 4x4 Array:\\n\", array)\n",
    "print(\"Diagonal Elements:\", diagonal_elements)\n"
   ]
  },
  {
   "cell_type": "code",
   "execution_count": null,
   "id": "20f799b9",
   "metadata": {},
   "outputs": [],
   "source": []
  }
 ],
 "metadata": {
  "kernelspec": {
   "display_name": "Python 3 (ipykernel)",
   "language": "python",
   "name": "python3"
  },
  "language_info": {
   "codemirror_mode": {
    "name": "ipython",
    "version": 3
   },
   "file_extension": ".py",
   "mimetype": "text/x-python",
   "name": "python",
   "nbconvert_exporter": "python",
   "pygments_lexer": "ipython3",
   "version": "3.10.9"
  }
 },
 "nbformat": 4,
 "nbformat_minor": 5
}
